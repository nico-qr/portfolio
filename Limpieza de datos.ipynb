{
 "cells": [
  {
   "cell_type": "code",
   "execution_count": 9,
   "id": "ad4246ff",
   "metadata": {},
   "outputs": [],
   "source": [
    "with open('outputacm.txt', encoding='utf-8') as f:\n",
    "    info = f.readlines()"
   ]
  },
  {
   "cell_type": "code",
   "execution_count": 10,
   "id": "2f2d1f23",
   "metadata": {},
   "outputs": [
    {
     "name": "stdout",
     "output_type": "stream",
     "text": [
      "['629814\\n', '#*Automated Deduction in Geometry: 5th International Workshop, ADG 2004, Gainesville, FL, USA, September 16-18, 2004, Revised Papers (Lecture Notes in Computer ... / Lecture Notes in Artificial Intelligence)\\n', '#@Hoon Hong,Dongming Wang\\n', '#t2006\\n', '#c\\n', '#index0\\n', '\\n', '#*A+ Certification Core Hardware (Text & Lab Manual)\\n', '#@Charles J. Brooks\\n', '#t2003\\n']\n"
     ]
    }
   ],
   "source": [
    "print(info[0:10])"
   ]
  },
  {
   "cell_type": "code",
   "execution_count": 11,
   "id": "4d3b0f44",
   "metadata": {},
   "outputs": [
    {
     "data": {
      "text/plain": [
       "6"
      ]
     },
     "execution_count": 11,
     "metadata": {},
     "output_type": "execute_result"
    }
   ],
   "source": [
    "info.index(\"\\n\")"
   ]
  },
  {
   "cell_type": "code",
   "execution_count": 29,
   "id": "30971780",
   "metadata": {},
   "outputs": [],
   "source": [
    "def list_duplicates_of(seq,item):\n",
    "    start_at = -1\n",
    "    locs = []\n",
    "    while True:\n",
    "        try:\n",
    "            loc = seq.index(item,start_at+1)\n",
    "        except ValueError:\n",
    "            break\n",
    "        else:\n",
    "            locs.append(loc)\n",
    "            start_at = loc\n",
    "    return locs\n",
    "\n",
    "source = info\n",
    "indices = list_duplicates_of(source, '\\n')"
   ]
  },
  {
   "cell_type": "code",
   "execution_count": 30,
   "id": "53d28405",
   "metadata": {},
   "outputs": [
    {
     "name": "stdout",
     "output_type": "stream",
     "text": [
      "[6, 12, 19, 26, 32, 40, 46, 53, 59, 65]\n"
     ]
    }
   ],
   "source": [
    "print(indices[0:10])"
   ]
  },
  {
   "cell_type": "code",
   "execution_count": 31,
   "id": "237e393c",
   "metadata": {},
   "outputs": [],
   "source": [
    "indices = [0]+indices"
   ]
  },
  {
   "cell_type": "code",
   "execution_count": 32,
   "id": "7867b39c",
   "metadata": {},
   "outputs": [
    {
     "name": "stdout",
     "output_type": "stream",
     "text": [
      "[0, 6, 12, 19, 26, 32, 40, 46, 53, 59]\n"
     ]
    }
   ],
   "source": [
    "print(indices[0:10])"
   ]
  },
  {
   "cell_type": "code",
   "execution_count": 41,
   "id": "2a8b4f30",
   "metadata": {},
   "outputs": [],
   "source": [
    "#Párrafos\n",
    "\n",
    "entradas = []\n",
    "\n",
    "for i in range(len(indices)-1):\n",
    "    parrafo = info[indices[i]:indices[i+1]]\n",
    "    entradas.append(parrafo)"
   ]
  },
  {
   "cell_type": "code",
   "execution_count": 61,
   "id": "95bd0ba6",
   "metadata": {},
   "outputs": [],
   "source": [
    "etiquette = []\n",
    "for entry in entradas:\n",
    "    et = entry[5]\n",
    "    etiquette.append(et)"
   ]
  },
  {
   "cell_type": "code",
   "execution_count": 63,
   "id": "e7f35e90",
   "metadata": {},
   "outputs": [
    {
     "name": "stdout",
     "output_type": "stream",
     "text": [
      "['#index0\\n', '#index1\\n', '#index2\\n', '#index3\\n', '#index4\\n', '#index5\\n', '#index6\\n', '#index7\\n', '#index8\\n', '#index9\\n']\n"
     ]
    }
   ],
   "source": [
    "print(etiquette[0:10])"
   ]
  },
  {
   "cell_type": "code",
   "execution_count": 74,
   "id": "e9112603",
   "metadata": {},
   "outputs": [
    {
     "name": "stdout",
     "output_type": "stream",
     "text": [
      "['629814\\n', '#*Automated Deduction in Geometry: 5th International Workshop, ADG 2004, Gainesville, FL, USA, September 16-18, 2004, Revised Papers (Lecture Notes in Computer ... / Lecture Notes in Artificial Intelligence)\\n', '#@Hoon Hong,Dongming Wang\\n', '#t2006\\n', '#c\\n', '#index0\\n']\n"
     ]
    }
   ],
   "source": [
    "print(entradas[0])"
   ]
  },
  {
   "cell_type": "code",
   "execution_count": 81,
   "id": "433db3ab",
   "metadata": {},
   "outputs": [
    {
     "name": "stdout",
     "output_type": "stream",
     "text": [
      "2\n",
      "*\n",
      "@\n",
      "t\n",
      "c\n",
      "i\n",
      "*\n",
      "@\n",
      "t\n",
      "c\n",
      "i\n",
      "*\n",
      "@\n",
      "t\n",
      "c\n",
      "i\n",
      "!\n",
      "*\n",
      "@\n",
      "t\n",
      "c\n",
      "i\n",
      "!\n",
      "*\n",
      "@\n",
      "t\n",
      "c\n",
      "i\n",
      "*\n",
      "@\n",
      "t\n",
      "c\n",
      "i\n",
      "%\n",
      "!\n",
      "*\n",
      "@\n",
      "t\n",
      "c\n",
      "i\n",
      "*\n",
      "@\n",
      "t\n",
      "c\n",
      "i\n",
      "!\n",
      "*\n",
      "@\n",
      "t\n",
      "c\n",
      "i\n",
      "*\n",
      "@\n",
      "t\n",
      "c\n",
      "i\n"
     ]
    }
   ],
   "source": [
    "citas = []\n",
    "\n",
    "for entry in entradas[0:10]:\n",
    "    cit = []\n",
    "    for linea in entry:\n",
    "        if len(linea)>1:\n",
    "            print(linea[1])\n",
    "        else:\n",
    "            continue\n"
   ]
  },
  {
   "cell_type": "code",
   "execution_count": 70,
   "id": "a2760e1e",
   "metadata": {},
   "outputs": [
    {
     "name": "stdout",
     "output_type": "stream",
     "text": [
      "[['629814\\n', '#*Automated Deduction in Geometry: 5th International Workshop, ADG 2004, Gainesville, FL, USA, September 16-18, 2004, Revised Papers (Lecture Notes in Computer ... / Lecture Notes in Artificial Intelligence)\\n', '#@Hoon Hong,Dongming Wang\\n', '#t2006\\n', '#c\\n', '#index0\\n'], ['\\n', '#*A+ Certification Core Hardware (Text & Lab Manual)\\n', '#@Charles J. Brooks\\n', '#t2003\\n', '#c\\n', '#index1\\n'], ['\\n', '#*Performance engineering in industry: current practices and adoption challenges\\n', '#@Ahmed E. Hassan,Parminder Flora\\n', '#t2007\\n', '#cProceedings of the 6th international workshop on Software and performance\\n', '#index2\\n', '#!This panel session discusses performance engineering practices in industry. Presentations in the session will explore the use of lightweight techniques and approaches in order to permit the cost effective and rapid adoption of performance modeling research by large industrial software systems.\\n']]\n"
     ]
    }
   ],
   "source": [
    "print(entradas[0:3])"
   ]
  },
  {
   "cell_type": "code",
   "execution_count": 69,
   "id": "8a21bdbe",
   "metadata": {},
   "outputs": [
    {
     "name": "stdout",
     "output_type": "stream",
     "text": [
      "[[], [], [], [], [], [], [], [], [], [], [], [], [], [], [], [], [], [], [], [], [], [], [], [], [], [], [], [], [], [], [], [], [], [], [], [], [], [], [], [], [], [], [], [], [], [], [], [], [], []]\n"
     ]
    }
   ],
   "source": [
    "print(citas[0:50])"
   ]
  }
 ],
 "metadata": {
  "kernelspec": {
   "display_name": "Python 3 (ipykernel)",
   "language": "python",
   "name": "python3"
  },
  "language_info": {
   "codemirror_mode": {
    "name": "ipython",
    "version": 3
   },
   "file_extension": ".py",
   "mimetype": "text/x-python",
   "name": "python",
   "nbconvert_exporter": "python",
   "pygments_lexer": "ipython3",
   "version": "3.9.13"
  }
 },
 "nbformat": 4,
 "nbformat_minor": 5
}
