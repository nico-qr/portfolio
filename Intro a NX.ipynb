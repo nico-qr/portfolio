{
 "cells": [
  {
   "cell_type": "markdown",
   "id": "4834002e",
   "metadata": {},
   "source": [
    "# Intro a NX\n",
    "\n",
    "En este notebook hago mis primeras exploraciones con NX."
   ]
  },
  {
   "cell_type": "code",
   "execution_count": 60,
   "id": "1b961f97",
   "metadata": {},
   "outputs": [],
   "source": [
    "import matplotlib.pyplot as plt"
   ]
  },
  {
   "cell_type": "markdown",
   "id": "cc8b78fb",
   "metadata": {},
   "source": [
    "## Nodos\n",
    "\n",
    "Cómo crear una gráfica y añadir nodos"
   ]
  },
  {
   "cell_type": "code",
   "execution_count": 2,
   "id": "e2d073e3",
   "metadata": {},
   "outputs": [],
   "source": [
    "import networkx as nx\n",
    "G = nx.Graph()"
   ]
  },
  {
   "cell_type": "code",
   "execution_count": 4,
   "id": "f1d9fb1a",
   "metadata": {},
   "outputs": [
    {
     "name": "stdout",
     "output_type": "stream",
     "text": [
      "<class 'networkx.classes.graph.Graph'>\n"
     ]
    }
   ],
   "source": [
    "#Veo que G es una nueva clase no predeterminada de Python\n",
    "print(type(G))"
   ]
  },
  {
   "cell_type": "code",
   "execution_count": 10,
   "id": "fe0ab7d4",
   "metadata": {},
   "outputs": [
    {
     "name": "stdout",
     "output_type": "stream",
     "text": [
      "Graph with 4 nodes and 0 edges\n"
     ]
    }
   ],
   "source": [
    "#Añadimos nodos\n",
    "G.add_nodes_from([2, 3, \"a\"])\n",
    "print(G)"
   ]
  },
  {
   "cell_type": "markdown",
   "id": "7ffc16d3",
   "metadata": {},
   "source": [
    "Como $G$ es un nuevo tipo de estructura, cuando la definimos estamos actuando sobre el objeto. Si añades un nodo, no reemplazas lo ya existente. Añades más información a la misma. Sin embargo, si intentas añadir un nodo que ya estaba definido, no se modifica ni se duplica"
   ]
  },
  {
   "cell_type": "code",
   "execution_count": 12,
   "id": "c2800beb",
   "metadata": {},
   "outputs": [
    {
     "data": {
      "text/plain": [
       "NodeView((1, 2, 3, 'a'))"
      ]
     },
     "execution_count": 12,
     "metadata": {},
     "output_type": "execute_result"
    }
   ],
   "source": [
    "#Con esto podemos ver los nodos de la gráfica\n",
    "G.nodes"
   ]
  },
  {
   "cell_type": "markdown",
   "id": "c853a16b",
   "metadata": {},
   "source": [
    "Podemos añadir nodos pareados con atributos. El formato es: Contenedor > 2-tuplas. Y cada 2-tupla tiene nodo más diccionario con el atributo. "
   ]
  },
  {
   "cell_type": "code",
   "execution_count": 16,
   "id": "a4128c5a",
   "metadata": {},
   "outputs": [
    {
     "name": "stdout",
     "output_type": "stream",
     "text": [
      "[1, 2, 3, 'a', 5, 6]\n"
     ]
    }
   ],
   "source": [
    "G.add_nodes_from([(5,{\"Sonido\": \"Pop\"}),(6,{\"Sonido\": \"Metal\"})])\n",
    "\n",
    "#Nótese que no se hace referencia a los atributos de los nodos\n",
    "print(G.nodes)"
   ]
  },
  {
   "cell_type": "markdown",
   "id": "ae044887",
   "metadata": {},
   "source": [
    "Podemos agregar los nodos de una gráfica a otra gráfica:"
   ]
  },
  {
   "cell_type": "code",
   "execution_count": 19,
   "id": "d0c8c44f",
   "metadata": {},
   "outputs": [
    {
     "name": "stdout",
     "output_type": "stream",
     "text": [
      "['new']\n"
     ]
    }
   ],
   "source": [
    "H = nx.Graph()\n",
    "H.add_node(\"new\")\n",
    "print(H.nodes)"
   ]
  },
  {
   "cell_type": "code",
   "execution_count": 21,
   "id": "92b6b7a7",
   "metadata": {},
   "outputs": [
    {
     "name": "stdout",
     "output_type": "stream",
     "text": [
      "['new', 1, 2, 3, 'a', 5, 6]\n"
     ]
    }
   ],
   "source": [
    "H.add_nodes_from(G)\n",
    "print(H.nodes)"
   ]
  },
  {
   "cell_type": "markdown",
   "id": "ecd44797",
   "metadata": {},
   "source": [
    "Nótese que al añadir los nuevos nodos se agregan al final, tal como lo esperaríamos si de un agregado directo se tratara. **Además** podemos usar _una gráfica_ como nodo."
   ]
  },
  {
   "cell_type": "code",
   "execution_count": 24,
   "id": "29cc0232",
   "metadata": {},
   "outputs": [
    {
     "name": "stdout",
     "output_type": "stream",
     "text": [
      "[1, 2, 3, 'a', 5, 6, <networkx.classes.graph.Graph object at 0x7f06fbf9bf10>]\n"
     ]
    }
   ],
   "source": [
    "G.add_node(H)\n",
    "print(G.nodes)"
   ]
  },
  {
   "cell_type": "markdown",
   "id": "495c8af1",
   "metadata": {},
   "source": [
    "Nótese que se agrega como objeto a la gráfica."
   ]
  },
  {
   "cell_type": "markdown",
   "id": "a72ad409",
   "metadata": {},
   "source": [
    "## Aristas\n",
    "\n",
    "Podemos agregar aristas. "
   ]
  },
  {
   "cell_type": "code",
   "execution_count": 25,
   "id": "9ce27d1b",
   "metadata": {},
   "outputs": [],
   "source": [
    "J = nx.Graph()"
   ]
  },
  {
   "cell_type": "code",
   "execution_count": 28,
   "id": "d9990c20",
   "metadata": {},
   "outputs": [
    {
     "name": "stdout",
     "output_type": "stream",
     "text": [
      "[1, 2]\n"
     ]
    }
   ],
   "source": [
    "J.add_edge(1,2)\n",
    "print(J.nodes)\n",
    "#Nótese que podemos agregar los aristas entre nodos no existentes. Al definir las aristas estamos definiendo los noods\n",
    "#que los unen"
   ]
  },
  {
   "cell_type": "code",
   "execution_count": 33,
   "id": "0c8dbe32",
   "metadata": {},
   "outputs": [
    {
     "name": "stdout",
     "output_type": "stream",
     "text": [
      "[1, 2, 3, 4]\n",
      "[(1, 2), (3, 4)]\n"
     ]
    }
   ],
   "source": [
    "J.add_nodes_from([3,4])\n",
    "print(J.nodes)\n",
    "J.add_edge(3,4)\n",
    "\n",
    "#También podemos agrear aristas a nodos ya existentes\n",
    "print(J.edges)"
   ]
  },
  {
   "cell_type": "markdown",
   "id": "8f33a111",
   "metadata": {},
   "source": [
    "Es posible agregar aristas (en plural) en una sola operación, así como agregábamos nodos (en plural) en una sola operación. Necesitamos un contenedor con 2-tuplas indicando qué nodos se están conectando o 3-tuplas con dos nodos de conexión y un diccionario con atributos."
   ]
  },
  {
   "cell_type": "code",
   "execution_count": 44,
   "id": "4ec1bb1a",
   "metadata": {},
   "outputs": [
    {
     "name": "stdout",
     "output_type": "stream",
     "text": [
      "[(1, 2), (1, 3), (1, 4), (2, 4), (2, 3), (3, 4)]\n",
      "[(1, 2), (1, 3), (1, 4), (2, 4), (2, 3), (3, 4)]\n"
     ]
    }
   ],
   "source": [
    "J.add_edges_from([(1,3), (1,4)])\n",
    "print(J.edges)\n",
    "J.add_edge(2,4)\n",
    "\n",
    "J.add_edges_from([(2,3,{\"Peso\":10})])\n",
    "\n",
    "#Parece ser que para añadir aristas con argumentos necesitamos agregarlo desde el contenedor. \n",
    "print(J.edges)"
   ]
  },
  {
   "cell_type": "markdown",
   "id": "f52d6d13",
   "metadata": {},
   "source": [
    "Podemos agregar las aristas de otras gráficas"
   ]
  },
  {
   "cell_type": "code",
   "execution_count": 46,
   "id": "51389a73",
   "metadata": {},
   "outputs": [
    {
     "name": "stdout",
     "output_type": "stream",
     "text": [
      "[(1, 2), (1, 3), (1, 4), (2, 4), (2, 3), (3, 4)]\n"
     ]
    }
   ],
   "source": [
    "H.add_edges_from(J.edges)\n",
    "print(H.edges)"
   ]
  },
  {
   "cell_type": "markdown",
   "id": "a956536a",
   "metadata": {},
   "source": [
    "Y podemos limpiar una gráfica:"
   ]
  },
  {
   "cell_type": "code",
   "execution_count": 48,
   "id": "31dec825",
   "metadata": {},
   "outputs": [
    {
     "name": "stdout",
     "output_type": "stream",
     "text": [
      "Graph with 0 nodes and 0 edges\n"
     ]
    }
   ],
   "source": [
    "H.clear()\n",
    "print(H)"
   ]
  },
  {
   "cell_type": "markdown",
   "id": "68c5b53f",
   "metadata": {},
   "source": [
    "Cuando agregamos nodos, dado que se agregan desde un contenedor, no necesariamente se requiere de una lista. Pueden agregarse como nodos, por ejemplo, los caracteres de una string. "
   ]
  },
  {
   "cell_type": "code",
   "execution_count": 50,
   "id": "f6cd26ba",
   "metadata": {},
   "outputs": [
    {
     "name": "stdout",
     "output_type": "stream",
     "text": [
      "['n', 'o', 'd', 's']\n"
     ]
    }
   ],
   "source": [
    "H.add_nodes_from(\"nodos\")\n",
    "print(H.nodes)"
   ]
  },
  {
   "cell_type": "markdown",
   "id": "3156fd8d",
   "metadata": {},
   "source": [
    "Y nótese que aquí, a pesar de tener dos letras _o_ no se agregan doblemente. "
   ]
  },
  {
   "cell_type": "markdown",
   "id": "06747a1c",
   "metadata": {},
   "source": [
    "## Operaciones básicas\n",
    "Hay cuatro cosas básicas que nos pueden interesar.\n",
    "\n",
    "Dada una gráfica podemos querer conocer:\n",
    "\n",
    "- Sus nodos\n",
    "- Sus aristas\n",
    "\n",
    "Dado un nodo nos puede interesar conocer:\n",
    "\n",
    "- Su grado (número de aristas incidentes en él)\n",
    "- Sus vecinos"
   ]
  },
  {
   "cell_type": "code",
   "execution_count": 57,
   "id": "c5092c58",
   "metadata": {},
   "outputs": [
    {
     "name": "stdout",
     "output_type": "stream",
     "text": [
      "Nodos: [0, 1, 2, 3], Aristas: [(0, 1), (0, 2), (1, 3), (2, 3)]\n",
      "{1: {}, 2: {}}\n",
      "2\n"
     ]
    }
   ],
   "source": [
    "K = nx.Graph()\n",
    "K.add_edges_from([(0,1),(0,2),(1,3),(2,3),(3,1)])\n",
    "print(\"Nodos: \" + str(K.nodes) + \", Aristas: \" +  str(K.edges))\n",
    "\n",
    "#Ahora conocemos los vecinos y el grado del nodo 3\n",
    "print(K.adj[3])\n",
    "print(K.degree[3])"
   ]
  },
  {
   "cell_type": "markdown",
   "id": "88d17f01",
   "metadata": {},
   "source": [
    "En el caso anterior obtuvimos la información como vista de lecura. Sin embargo, podemos almacernarla en listas, conjuntos, diccionarios, tuplas u otros contenedores."
   ]
  },
  {
   "cell_type": "code",
   "execution_count": 59,
   "id": "5690f1c2",
   "metadata": {},
   "outputs": [
    {
     "data": {
      "text/plain": [
       "[1, 2]"
      ]
     },
     "execution_count": 59,
     "metadata": {},
     "output_type": "execute_result"
    }
   ],
   "source": [
    "list(K.adj[3]) #Nos da una lista con los vecinos del nodo 3"
   ]
  },
  {
   "cell_type": "markdown",
   "id": "46a27f2f",
   "metadata": {},
   "source": [
    "Puede especificarse un subconjunto de nodos de la gráfica para obtener información de ellos."
   ]
  },
  {
   "cell_type": "markdown",
   "id": "0d7b3c0b",
   "metadata": {},
   "source": [
    "## Otras operaciones\n",
    "\n",
    "Otras operaciones que nos pueden interesar son:\n",
    "\n",
    "- Borrado de información\n",
    "- Usado de constructores\n",
    "- Qué usar como nodos y aristas\n",
    "- Acceso a aristas y vecinos\n",
    "- Gráficas dirigidas"
   ]
  },
  {
   "cell_type": "markdown",
   "id": "806bbb5d",
   "metadata": {},
   "source": [
    "## Visualización"
   ]
  },
  {
   "cell_type": "code",
   "execution_count": 63,
   "id": "a9e0f121",
   "metadata": {},
   "outputs": [
    {
     "data": {
      "image/png": "[encoded data removed]",
      "text/plain": [
       "<Figure size 640x480 with 2 Axes>"
      ]
     },
     "metadata": {},
     "output_type": "display_data"
    }
   ],
   "source": [
    "#Para ver si la importanción con matplotlib.pyplot funcionó\n",
    "\n",
    "G = nx.petersen_graph()\n",
    "subax1 = plt.subplot(121)\n",
    "nx.draw(G, with_labels=True, font_weight='bold')\n",
    "subax2 = plt.subplot(122)\n",
    "nx.draw_shell(G, nlist=[range(5, 10), range(5)], with_labels=True, font_weight='bold')\n",
    "plt.show()"
   ]
  },
  {
   "cell_type": "code",
   "execution_count": 85,
   "id": "62f29459",
   "metadata": {},
   "outputs": [
    {
     "data": {
      "image/png": "[encoded data removed]",
      "text/plain": [
       "<Figure size 640x480 with 1 Axes>"
      ]
     },
     "metadata": {},
     "output_type": "display_data"
    }
   ],
   "source": [
    "g = nx.Graph()\n",
    "g.add_edges_from([(0,1),(0,2),(0,3),(0,4),(0,5),(0,6),(0,7),(0,8),(0,9)])\n",
    "d = dict(g.degree)\n",
    "\n",
    "\n",
    "nx.draw(g, nodelist = d.keys(), node_size = [v * 100 for v in d.values()])"
   ]
  }
 ],
 "metadata": {
  "kernelspec": {
   "display_name": "Python 3 (ipykernel)",
   "language": "python",
   "name": "python3"
  },
  "language_info": {
   "codemirror_mode": {
    "name": "ipython",
    "version": 3
   },
   "file_extension": ".py",
   "mimetype": "text/x-python",
   "name": "python",
   "nbconvert_exporter": "python",
   "pygments_lexer": "ipython3",
   "version": "3.9.13"
  }
 },
 "nbformat": 4,
 "nbformat_minor": 5
}
